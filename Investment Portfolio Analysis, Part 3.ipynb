{
 "cells": [
  {
   "cell_type": "markdown",
   "metadata": {},
   "source": [
    "## Investment Portfolio Analysis Part 3"
   ]
  },
  {
   "cell_type": "code",
   "execution_count": 2,
   "metadata": {},
   "outputs": [
    {
     "data": {
      "text/plain": [
       "            mcash   mbonds  msbonds  mlbonds  mibonds  mstocks mlstocks\n",
       "2007-01-31 109.00 7.160662 8.528708 6.476980 7.589386 29.04660 109.4419\n",
       "2007-02-28 109.12 7.268778 8.608584 6.666734 7.758039 28.57824 107.2868\n",
       "2007-03-31 109.28 7.270352 8.632868 6.591707 7.782285 28.89504 108.4799\n",
       "2007-04-30 109.40 7.307607 8.673239 6.648708 7.870720 30.05387 113.2724\n",
       "2007-05-31 109.58 7.250820 8.638874 6.520618 7.730698 31.16231 117.2110\n",
       "2007-06-30 109.64 7.223215 8.670263 6.463231 7.689753 30.64043 115.2484\n",
       "           msstocks mgstocks mvstocks mistocks mdstocks mestocks  moil mgold\n",
       "2007-01-31 29.46211 17.77470 14.38522 13.79684 33.95412 19.32504 48.24 64.83\n",
       "2007-02-28 29.42683 17.84074 14.30250 13.80458 34.06837 19.07677 51.18 66.48\n",
       "2007-03-31 29.78501 18.16343 14.38777 14.19126 35.01281 19.86162 53.35 65.74\n",
       "2007-04-30 30.57905 18.80505 14.65268 14.74808 36.38494 20.70254 51.24 67.09\n",
       "2007-05-31 31.92890 19.76747 15.19077 15.20437 37.19434 21.93588 48.96 65.54\n",
       "2007-06-30 31.41719 19.62594 14.80997 15.29717 37.22488 22.92095 53.00 64.27\n",
       "           mreit  musd mvixi  mmom msprem msize mstyle mrisk    mcpi mparity\n",
       "2007-01-31 91.40 24.94 10.42  0.24   1.40  0.10  -0.13  0.44 203.437 1200.17\n",
       "2007-02-28 88.13 24.94 15.42 -1.33  -1.96  1.32  -0.10  0.38 204.226 1183.12\n",
       "2007-03-31 85.24 24.79 14.64  2.47   0.68 -0.06  -0.23  0.43 205.288 1190.67\n",
       "2007-04-30 85.49 24.49 14.22 -0.16   3.49 -2.07  -1.15  0.44 205.904 1208.87\n",
       "2007-05-31 85.62 24.92 13.05 -0.27   3.24 -0.01  -0.07  0.41 206.755 1250.20\n",
       "2007-06-30 77.42 24.88 16.23  0.30  -1.96  0.79  -1.11  0.40 207.234 1237.49\n",
       "            mtail    mhedge mlstocks2x misprem\n",
       "2007-01-31 110.55 1.2825859   37.42465    0.61\n",
       "2007-02-28 108.39 0.6866376   38.02539    0.56\n",
       "2007-03-31 109.60 0.7748878   41.40110    2.49\n",
       "2007-04-30 114.46 1.9260583   43.95382    3.75\n",
       "2007-05-31 118.45 2.1490649   42.17317    1.92\n",
       "2007-06-30 116.47 1.1632484   39.31936    0.01"
      ]
     },
     "metadata": {},
     "output_type": "display_data"
    }
   ],
   "source": [
    "#Load Packages\n",
    "\n",
    "# 1.1. Load R packages \n",
    "library(\"tseries\")\n",
    "library(\"quantmod\")\n",
    "library(\"Quandl\")\n",
    "library(\"PortfolioAnalytics\")\n",
    "library(\"DEoptim\")\n",
    "\n",
    "# 1.2. Data Reading\n",
    "data <- read.csv(\"Investment-Portfolio-Analysis-Data.txt\",header=T)\n",
    "data <- xts(data[,2:30],order.by=as.Date(data[,1]))\n",
    "head(data)"
   ]
  },
  {
   "cell_type": "code",
   "execution_count": 3,
   "metadata": {},
   "outputs": [],
   "source": [
    "#  U.S. Total Money Market\n",
    "cash <- data[,1]\n",
    "mcash <- monthlyReturn(cash,type=\"arithmetic\") ##create monthly return column\n",
    "colnames(mcash) <- \"mcash\"\n",
    "# U.S. Total Bond Market\n",
    "bonds <- data[,2]\n",
    "mbonds <- monthlyReturn(bonds,type=\"arithmetic\")       ##create monthly return column\n",
    "colnames(mbonds) <- \"mbonds\"\n",
    "\n",
    "# U.S. Short Term Bond Market \n",
    "sbonds <- data[,3]\n",
    "msbonds <- monthlyReturn(sbonds,type=\"arithmetic\")     ##create monthly return column\n",
    "colnames(msbonds) <- \"msbonds\"\n",
    "\n",
    "# U.S. Long Term Bond Market \n",
    "lbonds <- data[,4]\n",
    "mlbonds <- monthlyReturn(lbonds,type=\"arithmetic\")    ##create monthly return column\n",
    "colnames(mlbonds) <- \"mlbonds\"\n",
    "\n",
    "# International Total Bond Market \n",
    "ibonds <- data[,5]\n",
    "mibonds <- monthlyReturn(ibonds,type=\"arithmetic\")    ##create monthly return column\n",
    "colnames(mibonds) <- \"mibonds\"\n",
    "# U.S. Total Stock Market\n",
    "stocks <- data[,6]\n",
    "mstocks <- monthlyReturn(stocks,type=\"arithmetic\")   ##create monthly return column\n",
    "colnames(mstocks) <- \"mstocks\"\n",
    "\n",
    "# U.S. Large Cap Stock Market\n",
    "lstocks <- data[,7]\n",
    "mlstocks <- monthlyReturn(lstocks,type=\"arithmetic\")    ##create monthly return column\n",
    "colnames(mlstocks) <- \"mlstocks\"\n",
    "\n",
    "# U.S. Small Cap Stock Market \n",
    "sstocks <- data[,8]\n",
    "msstocks <- monthlyReturn(sstocks,type=\"arithmetic\")    ##create monthly return column\n",
    "colnames(msstocks) <- \"msstocks\"\n",
    "\n",
    "#  U.S. Small Cap Growth Stock Market\n",
    "gstocks <- data[,9]\n",
    "mgstocks <- monthlyReturn(gstocks,type=\"arithmetic\")    ##create monthly return column\n",
    "colnames(mgstocks) <- \"mgstocks\"\n",
    "\n",
    "# U.S. Small Cap Value Stock Market \n",
    "vstocks <- data[,10]\n",
    "mvstocks <- monthlyReturn(vstocks,type=\"arithmetic\")    ##create monthly return column\n",
    "colnames(mvstocks) <- \"mvstocks\"\n",
    "\n",
    "# International Total Stock Market\n",
    "istocks <- data[,11]\n",
    "mistocks <- monthlyReturn(istocks,type=\"arithmetic\")     ##create monthly return column\n",
    "colnames(mistocks) <- \"mistocks\"\n",
    "\n",
    "#  International Developed Stock Market \n",
    "dstocks <- data[,12]\n",
    "mdstocks <- monthlyReturn(dstocks,type=\"arithmetic\")    ##create monthly return column\n",
    "colnames(mdstocks) <- \"mdstocks\"\n",
    "\n",
    "# International Emerging Stock Market \n",
    "estocks <- data[,13]\n",
    "mestocks <- monthlyReturn(estocks,type=\"arithmetic\")    ##create monthly return column\n",
    "colnames(mestocks) <- \"mestocks\"\n",
    "#  United States Oil Fund\n",
    "oil <- data[,14]\n",
    "moil <- monthlyReturn(oil,type=\"arithmetic\")\n",
    "colnames(moil) <- \"moil\"\n",
    "\n",
    "# U.S. Real Estate Investment Trust\n",
    "reit <- data[,16]\n",
    "mreit <- monthlyReturn(reit,type=\"arithmetic\")     #REIT shouldn't be here, but it is\n",
    "colnames(mreit) <- \"mreit\"\n",
    "\n",
    "\n",
    "# USD Major Currencies Index \n",
    "usd <- data[,17]\n",
    "musd <- monthlyReturn(usd,type=\"arithmetic\")   #Currency shouldn't be here, but it is\n",
    "colnames(musd) <- \"musd\"\n",
    "\n",
    "\n",
    "#  Gold Shares\n",
    "gold <- data[,15]\n",
    "mgold <- monthlyReturn(gold,type=\"arithmetic\")\n",
    "colnames(mgold) <- \"mgold\""
   ]
  },
  {
   "cell_type": "code",
   "execution_count": 19,
   "metadata": {},
   "outputs": [],
   "source": [
    "#  Standard Deviation\n",
    "msd <- sd(mlstocks)\n",
    "\n",
    "# Mean Absolute Deviation\n",
    "mmad <- MeanAbsoluteDeviation(mlstocks)\n",
    "\n",
    "#  Risk Metrics First Comparison\n",
    "mriskcomp1 <- cbind(msd,mmad)\n"
   ]
  },
  {
   "cell_type": "markdown",
   "metadata": {},
   "source": [
    "### Portfolio Leverage"
   ]
  },
  {
   "cell_type": "code",
   "execution_count": 4,
   "metadata": {},
   "outputs": [
    {
     "data": {
      "text/html": [
       "2.64855480439308"
      ],
      "text/latex": [
       "2.64855480439308"
      ],
      "text/markdown": [
       "2.64855480439308"
      ],
      "text/plain": [
       "[1] 2.648555"
      ]
     },
     "metadata": {},
     "output_type": "display_data"
    },
    {
     "data": {
      "text/html": [
       "<table>\n",
       "<thead><tr><th></th><th scope=col>mlstocks</th><th scope=col>mlstocks2x</th></tr></thead>\n",
       "<tbody>\n",
       "\t<tr><th scope=row>Annualized Return</th><td>0.0656</td><td>0.0770</td></tr>\n",
       "\t<tr><th scope=row>Annualized Std Dev</th><td>0.1528</td><td>0.3108</td></tr>\n",
       "\t<tr><th scope=row>Annualized Sharpe (Rf=0%)</th><td>0.4293</td><td>0.2476</td></tr>\n",
       "</tbody>\n",
       "</table>\n"
      ],
      "text/latex": [
       "\\begin{tabular}{r|ll}\n",
       "  & mlstocks & mlstocks2x\\\\\n",
       "\\hline\n",
       "\tAnnualized Return & 0.0656 & 0.0770\\\\\n",
       "\tAnnualized Std Dev & 0.1528 & 0.3108\\\\\n",
       "\tAnnualized Sharpe (Rf=0\\%) & 0.4293 & 0.2476\\\\\n",
       "\\end{tabular}\n"
      ],
      "text/markdown": [
       "\n",
       "| <!--/--> | mlstocks | mlstocks2x |\n",
       "|---|---|---|\n",
       "| Annualized Return | 0.0656 | 0.0770 |\n",
       "| Annualized Std Dev | 0.1528 | 0.3108 |\n",
       "| Annualized Sharpe (Rf=0%) | 0.4293 | 0.2476 |\n",
       "\n"
      ],
      "text/plain": [
       "                          mlstocks mlstocks2x\n",
       "Annualized Return         0.0656   0.0770    \n",
       "Annualized Std Dev        0.1528   0.3108    \n",
       "Annualized Sharpe (Rf=0%) 0.4293   0.2476    "
      ]
     },
     "metadata": {},
     "output_type": "display_data"
    },
    {
     "data": {
      "image/png": "[encoded data removed]",
      "text/plain": [
       "Plot with title \"mlstocks Performance\""
      ]
     },
     "metadata": {},
     "output_type": "display_data"
    }
   ],
   "source": [
    "#  Maximum Leverage Calculation\n",
    "\n",
    "# Maximum Annual Leverage Ratio \n",
    "alstocks <- yearlyReturn(stocks)\n",
    "acash <- yearlyReturn(cash)\n",
    "amaxlev <- 1/abs(min(alstocks)-max(acash))\n",
    "amaxlev\n",
    "\n",
    "#  U.S. Large Cap Stock Market 2x Daily Leverage \n",
    "lstocks2x <- data[,28]\n",
    "mlstocks2x <- monthlyReturn(lstocks2x)\n",
    "colnames(mlstocks2x) <- \"mlstocks2x\"\n",
    "\n",
    "#  Leveraged Portfolios Returns Comparison\n",
    "levcomp <- cbind(mlstocks, mlstocks2x)\n",
    "table.AnnualizedReturns(levcomp)\n",
    "charts.PerformanceSummary(levcomp)"
   ]
  },
  {
   "cell_type": "markdown",
   "metadata": {},
   "source": [
    "## Portfolio Optimization"
   ]
  },
  {
   "cell_type": "markdown",
   "metadata": {},
   "source": [
    "#### Portfolio Performance Metrics (Higher is better)"
   ]
  },
  {
   "cell_type": "code",
   "execution_count": 5,
   "metadata": {},
   "outputs": [
    {
     "data": {
      "text/html": [
       "<table>\n",
       "<thead><tr><th></th><th scope=col>mlstocks</th></tr></thead>\n",
       "<tbody>\n",
       "\t<tr><th scope=row>StdDev Sharpe (Rf=0%, p=95%):</th><td>0.14036123</td></tr>\n",
       "\t<tr><th scope=row>VaR Sharpe (Rf=0%, p=95%):</th><td>0.08502864</td></tr>\n",
       "\t<tr><th scope=row>ES Sharpe (Rf=0%, p=95%):</th><td>0.05678181</td></tr>\n",
       "</tbody>\n",
       "</table>\n"
      ],
      "text/latex": [
       "\\begin{tabular}{r|l}\n",
       "  & mlstocks\\\\\n",
       "\\hline\n",
       "\tStdDev Sharpe (Rf=0\\%, p=95\\%): & 0.14036123\\\\\n",
       "\tVaR Sharpe (Rf=0\\%, p=95\\%): & 0.08502864\\\\\n",
       "\tES Sharpe (Rf=0\\%, p=95\\%): & 0.05678181\\\\\n",
       "\\end{tabular}\n"
      ],
      "text/markdown": [
       "\n",
       "| <!--/--> | mlstocks |\n",
       "|---|---|\n",
       "| StdDev Sharpe (Rf=0%, p=95%): | 0.14036123 |\n",
       "| VaR Sharpe (Rf=0%, p=95%): | 0.08502864 |\n",
       "| ES Sharpe (Rf=0%, p=95%): | 0.05678181 |\n",
       "\n"
      ],
      "text/plain": [
       "                              mlstocks  \n",
       "StdDev Sharpe (Rf=0%, p=95%): 0.14036123\n",
       "VaR Sharpe (Rf=0%, p=95%):    0.08502864\n",
       "ES Sharpe (Rf=0%, p=95%):     0.05678181"
      ]
     },
     "metadata": {},
     "output_type": "display_data"
    },
    {
     "data": {
      "text/html": [
       "0.0666245037938613"
      ],
      "text/latex": [
       "0.0666245037938613"
      ],
      "text/markdown": [
       "0.0666245037938613"
      ],
      "text/plain": [
       "[1] 0.0666245"
      ]
     },
     "metadata": {},
     "output_type": "display_data"
    },
    {
     "data": {
      "text/html": [
       "<table>\n",
       "<thead><tr><th></th><th scope=col>mlstocks</th></tr></thead>\n",
       "<tbody>\n",
       "\t<tr><th scope=row>Sortino Ratio (MAR = 0.01%)</th><td>0.2021255</td></tr>\n",
       "</tbody>\n",
       "</table>\n"
      ],
      "text/latex": [
       "\\begin{tabular}{r|l}\n",
       "  & mlstocks\\\\\n",
       "\\hline\n",
       "\tSortino Ratio (MAR = 0.01\\%) & 0.2021255\\\\\n",
       "\\end{tabular}\n"
      ],
      "text/markdown": [
       "\n",
       "| <!--/--> | mlstocks |\n",
       "|---|---|\n",
       "| Sortino Ratio (MAR = 0.01%) | 0.2021255 |\n",
       "\n"
      ],
      "text/plain": [
       "                            mlstocks \n",
       "Sortino Ratio (MAR = 0.01%) 0.2021255"
      ]
     },
     "metadata": {},
     "output_type": "display_data"
    },
    {
     "data": {
      "text/html": [
       "<table>\n",
       "<thead><tr><th></th><th scope=col>mlstocks</th></tr></thead>\n",
       "<tbody>\n",
       "\t<tr><th scope=row>Kelly Ratio</th><td>1.591474</td></tr>\n",
       "</tbody>\n",
       "</table>\n"
      ],
      "text/latex": [
       "\\begin{tabular}{r|l}\n",
       "  & mlstocks\\\\\n",
       "\\hline\n",
       "\tKelly Ratio & 1.591474\\\\\n",
       "\\end{tabular}\n"
      ],
      "text/markdown": [
       "\n",
       "| <!--/--> | mlstocks |\n",
       "|---|---|\n",
       "| Kelly Ratio | 1.591474 |\n",
       "\n"
      ],
      "text/plain": [
       "            mlstocks\n",
       "Kelly Ratio 1.591474"
      ]
     },
     "metadata": {},
     "output_type": "display_data"
    }
   ],
   "source": [
    "# Sharpe Ratio \n",
    "msharpe <- SharpeRatio(mlstocks,Rf=mean(mcash))\n",
    "msharpe\n",
    "\n",
    "#  Treynor Ratio\n",
    "mtreynor <- TreynorRatio(Ra=mlstocks,Rb=mstocks,Rf=mean(mcash))\n",
    "mtreynor\n",
    "\n",
    "#  Sortino Ratio\n",
    "msortino <- SortinoRatio(R=mlstocks,MAR=mean(mcash))\n",
    "msortino\n",
    "\n",
    "# Kelly Ratio\n",
    "mkelly <- KellyRatio(R=mlstocks,Rf=mean(mcash),method=\"half\")\n",
    "mkelly"
   ]
  },
  {
   "cell_type": "markdown",
   "metadata": {},
   "source": [
    "#### Portfolio Benchmarks"
   ]
  },
  {
   "cell_type": "code",
   "execution_count": 6,
   "metadata": {},
   "outputs": [
    {
     "data": {
      "text/html": [
       "<table>\n",
       "<thead><tr><th></th><th scope=col>mnaive</th><th scope=col>mroche</th><th scope=col>mbogle</th></tr></thead>\n",
       "<tbody>\n",
       "\t<tr><th scope=row>Annualized Return</th><td>0.0394</td><td>0.0364</td><td>0.0603</td></tr>\n",
       "\t<tr><th scope=row>Annualized Std Dev</th><td>0.0995</td><td>0.0944</td><td>0.0954</td></tr>\n",
       "\t<tr><th scope=row>Annualized Sharpe (Rf=0%)</th><td>0.3961</td><td>0.3850</td><td>0.6316</td></tr>\n",
       "</tbody>\n",
       "</table>\n"
      ],
      "text/latex": [
       "\\begin{tabular}{r|lll}\n",
       "  & mnaive & mroche & mbogle\\\\\n",
       "\\hline\n",
       "\tAnnualized Return & 0.0394 & 0.0364 & 0.0603\\\\\n",
       "\tAnnualized Std Dev & 0.0995 & 0.0944 & 0.0954\\\\\n",
       "\tAnnualized Sharpe (Rf=0\\%) & 0.3961 & 0.3850 & 0.6316\\\\\n",
       "\\end{tabular}\n"
      ],
      "text/markdown": [
       "\n",
       "| <!--/--> | mnaive | mroche | mbogle |\n",
       "|---|---|---|---|\n",
       "| Annualized Return | 0.0394 | 0.0364 | 0.0603 |\n",
       "| Annualized Std Dev | 0.0995 | 0.0944 | 0.0954 |\n",
       "| Annualized Sharpe (Rf=0%) | 0.3961 | 0.3850 | 0.6316 |\n",
       "\n"
      ],
      "text/plain": [
       "                          mnaive mroche mbogle\n",
       "Annualized Return         0.0394 0.0364 0.0603\n",
       "Annualized Std Dev        0.0995 0.0944 0.0954\n",
       "Annualized Sharpe (Rf=0%) 0.3961 0.3850 0.6316"
      ]
     },
     "metadata": {},
     "output_type": "display_data"
    },
    {
     "data": {
      "image/png": "[encoded data removed]",
      "text/plain": [
       "Plot with title \"mnaive Performance\""
      ]
     },
     "metadata": {},
     "output_type": "display_data"
    }
   ],
   "source": [
    "#  Portfolio Assets Returns Matrix\n",
    "mport <- cbind(mbonds,mstocks,mibonds,mistocks)\n",
    "\n",
    "#  Naive Global Portfolio (Monthly Rebalancing)\n",
    "mnaivew <- as.numeric(t(c(0.25,0.25,0.25,0.25)))\n",
    "names(mnaivew) <- c(\"mbonds\",\"mstocks\",\"mibonds\",\"mistocks\")\n",
    "mnaive <- Return.portfolio(R=mport,weights=mnaivew,geometric=F,rebalance_on=\"months\")\n",
    "colnames(mnaive) <- \"mnaive\"\n",
    "\n",
    "# Roche Global Portfolio (Monthly Rebalancing)\n",
    "mrochew <- as.numeric(t(c(0.24,0.18,0.33,0.25)))\n",
    "names(mrochew) <- c(\"mbonds\",\"mstocks\",\"mibonds\",\"mistocks\")\n",
    "mroche <- Return.portfolio(R=mport,weights=mrochew,geometric=F,rebalance_on=\"months\")\n",
    "colnames(mroche) <- \"mroche\"\n",
    "\n",
    "#  Bogle U.S. Portfolio (Monthly Rebalancing)\n",
    "mboglew <- as.numeric(t(c(0.40,0.60,0.00,0.00)))\n",
    "names(mboglew) <- c(\"mbonds\",\"mstocks\",\"mibonds\",\"mistocks\")\n",
    "mbogle <- Return.portfolio(R=mport,weights=mboglew,geometric=F,rebalance_on=\"months\")\n",
    "colnames(mbogle) <- \"mbogle\"\n",
    "\n",
    "# Benchmark Portfolios Returns Comparison\n",
    "benchcomp <- cbind(mnaive, mroche, mbogle)\n",
    "table.AnnualizedReturns(benchcomp)\n",
    "charts.PerformanceSummary(benchcomp)"
   ]
  },
  {
   "cell_type": "markdown",
   "metadata": {},
   "source": [
    "###  Portfolio Construction and Optimization"
   ]
  },
  {
   "cell_type": "markdown",
   "metadata": {},
   "source": [
    "#### 1) Mean Maximization Portfolio"
   ]
  },
  {
   "cell_type": "code",
   "execution_count": 20,
   "metadata": {},
   "outputs": [
    {
     "name": "stdout",
     "output_type": "stream",
     "text": [
      "Iteration: 1 bestvalit: -0.006791 bestmemit:    0.000000    0.982000    0.002000    0.010000\n",
      "Iteration: 2 bestvalit: -0.006816 bestmemit:    0.000000    0.980000    0.022000    0.000000\n",
      "Iteration: 3 bestvalit: -0.006816 bestmemit:    0.000000    0.980000    0.022000    0.000000\n",
      "Iteration: 4 bestvalit: -0.006816 bestmemit:    0.000000    0.980000    0.022000    0.000000\n",
      "Iteration: 5 bestvalit: -0.006816 bestmemit:    0.000000    0.980000    0.022000    0.000000\n",
      "Iteration: 6 bestvalit: -0.006831 bestmemit:    0.010000    0.982000    0.010000    0.000000\n",
      "Iteration: 7 bestvalit: -0.006831 bestmemit:    0.010000    0.982000    0.010000    0.000000\n",
      "Iteration: 8 bestvalit: -0.006831 bestmemit:    0.010000    0.982000    0.010000    0.000000\n",
      "Iteration: 9 bestvalit: -0.006831 bestmemit:    0.010000    0.982000    0.010000    0.000000\n",
      "Iteration: 10 bestvalit: -0.006831 bestmemit:    0.010000    0.982000    0.010000    0.000000\n",
      "Iteration: 11 bestvalit: -0.006831 bestmemit:    0.010000    0.982000    0.010000    0.000000\n",
      "Iteration: 12 bestvalit: -0.006831 bestmemit:    0.010000    0.982000    0.010000    0.000000\n",
      "Iteration: 13 bestvalit: -0.006831 bestmemit:    0.010000    0.982000    0.010000    0.000000\n",
      "[1] 0.010 0.982 0.010 0.000\n"
     ]
    },
    {
     "data": {
      "text/html": [
       "<table>\n",
       "<thead><tr><th></th><th scope=col>mnaive</th><th scope=col>mroche</th><th scope=col>mbogle</th><th scope=col>mport1</th></tr></thead>\n",
       "<tbody>\n",
       "\t<tr><th scope=row>Annualized Return</th><td>0.0140</td><td>0.0092</td><td>0.0387</td><td>0.0558</td></tr>\n",
       "\t<tr><th scope=row>Annualized Std Dev</th><td>0.0707</td><td>0.0685</td><td>0.0706</td><td>0.1190</td></tr>\n",
       "\t<tr><th scope=row>Annualized Sharpe (Rf=0%)</th><td>0.1981</td><td>0.1343</td><td>0.5480</td><td>0.4688</td></tr>\n",
       "</tbody>\n",
       "</table>\n"
      ],
      "text/latex": [
       "\\begin{tabular}{r|llll}\n",
       "  & mnaive & mroche & mbogle & mport1\\\\\n",
       "\\hline\n",
       "\tAnnualized Return & 0.0140 & 0.0092 & 0.0387 & 0.0558\\\\\n",
       "\tAnnualized Std Dev & 0.0707 & 0.0685 & 0.0706 & 0.1190\\\\\n",
       "\tAnnualized Sharpe (Rf=0\\%) & 0.1981 & 0.1343 & 0.5480 & 0.4688\\\\\n",
       "\\end{tabular}\n"
      ],
      "text/markdown": [
       "\n",
       "| <!--/--> | mnaive | mroche | mbogle | mport1 |\n",
       "|---|---|---|---|---|\n",
       "| Annualized Return | 0.0140 | 0.0092 | 0.0387 | 0.0558 |\n",
       "| Annualized Std Dev | 0.0707 | 0.0685 | 0.0706 | 0.1190 |\n",
       "| Annualized Sharpe (Rf=0%) | 0.1981 | 0.1343 | 0.5480 | 0.4688 |\n",
       "\n"
      ],
      "text/plain": [
       "                          mnaive mroche mbogle mport1\n",
       "Annualized Return         0.0140 0.0092 0.0387 0.0558\n",
       "Annualized Std Dev        0.0707 0.0685 0.0706 0.1190\n",
       "Annualized Sharpe (Rf=0%) 0.1981 0.1343 0.5480 0.4688"
      ]
     },
     "metadata": {},
     "output_type": "display_data"
    },
    {
     "data": {
      "image/png": "[encoded data removed]",
      "text/plain": [
       "Plot with title \"Weights\""
      ]
     },
     "metadata": {},
     "output_type": "display_data"
    },
    {
     "data": {
      "image/png": "[encoded data removed]",
      "text/plain": [
       "Plot with title \"mnaive Performance\""
      ]
     },
     "metadata": {},
     "output_type": "display_data"
    }
   ],
   "source": [
    "# Portfolio Specifications\n",
    "mport1c <- portfolio.spec(assets = colnames(mport))\n",
    "\n",
    "# Portfolio Constraints\n",
    "mport1c <- add.constraint(mport1c,type=\"weight_sum\",min_sum=0.99,max_sum=1.01)\n",
    "mport1c <- add.constraint(mport1c,type=\"long_only\")\n",
    "\n",
    "# Portfolio Objectives\n",
    "mport1c <- add.objective(mport1c,type=\"return\",name=\"mean\")\n",
    "\n",
    "# Portfolio Optimization\n",
    "mportopt1 <- optimize.portfolio(R=mport[\"::2014-12-31\"],portfolio=mport1c,optimize_method=\"DEoptim\",search_size=20000,trace=T)\n",
    "chart.Weights(mportopt1)\n",
    "\n",
    "# Portfolio Backtesting (Monthly Rebalancing)\n",
    "mport1 <- Return.portfolio(R=mport[\"2015-01-31::\"],weights=extractWeights(mportopt1),geometric=F,rebalance_on=\"months\")\n",
    "colnames(mport1) <- \"mport1\"\n",
    "mportcomp1 <- cbind(mnaive[\"2015-01-31::\"],mroche[\"2015-01-31::\"],mbogle[\"2015-01-31::\"],mport1)\n",
    "table.AnnualizedReturns(mportcomp1)\n",
    "charts.PerformanceSummary(mportcomp1)"
   ]
  },
  {
   "cell_type": "markdown",
   "metadata": {},
   "source": [
    "#### 2) Standard Deviation Minimization Portfolio"
   ]
  },
  {
   "cell_type": "code",
   "execution_count": 21,
   "metadata": {},
   "outputs": [
    {
     "name": "stdout",
     "output_type": "stream",
     "text": [
      "Iteration: 1 bestvalit: 0.010077 bestmemit:    0.944000    0.022000    0.010000    0.032000\n",
      "Iteration: 2 bestvalit: 0.009643 bestmemit:    0.976000    0.008000    0.002000    0.010000\n",
      "Iteration: 3 bestvalit: 0.009643 bestmemit:    0.976000    0.008000    0.002000    0.010000\n",
      "Iteration: 4 bestvalit: 0.009643 bestmemit:    0.976000    0.008000    0.002000    0.010000\n",
      "Iteration: 5 bestvalit: 0.009643 bestmemit:    0.976000    0.008000    0.002000    0.010000\n",
      "Iteration: 6 bestvalit: 0.009643 bestmemit:    0.976000    0.008000    0.002000    0.010000\n",
      "Iteration: 7 bestvalit: 0.009643 bestmemit:    0.976000    0.008000    0.002000    0.010000\n",
      "Iteration: 8 bestvalit: 0.009643 bestmemit:    0.976000    0.008000    0.002000    0.010000\n",
      "Iteration: 9 bestvalit: 0.009643 bestmemit:    0.976000    0.008000    0.002000    0.010000\n",
      "[1] 0.976 0.008 0.002 0.010\n"
     ]
    },
    {
     "data": {
      "text/html": [
       "<table>\n",
       "<thead><tr><th></th><th scope=col>mnaive</th><th scope=col>mroche</th><th scope=col>mbogle</th><th scope=col>mport2</th></tr></thead>\n",
       "<tbody>\n",
       "\t<tr><th scope=row>Annualized Return</th><td>0.0140</td><td>0.0092</td><td>0.0387</td><td>0.0073</td></tr>\n",
       "\t<tr><th scope=row>Annualized Std Dev</th><td>0.0707</td><td>0.0685</td><td>0.0706</td><td>0.0354</td></tr>\n",
       "\t<tr><th scope=row>Annualized Sharpe (Rf=0%)</th><td>0.1981</td><td>0.1343</td><td>0.5480</td><td>0.2062</td></tr>\n",
       "</tbody>\n",
       "</table>\n"
      ],
      "text/latex": [
       "\\begin{tabular}{r|llll}\n",
       "  & mnaive & mroche & mbogle & mport2\\\\\n",
       "\\hline\n",
       "\tAnnualized Return & 0.0140 & 0.0092 & 0.0387 & 0.0073\\\\\n",
       "\tAnnualized Std Dev & 0.0707 & 0.0685 & 0.0706 & 0.0354\\\\\n",
       "\tAnnualized Sharpe (Rf=0\\%) & 0.1981 & 0.1343 & 0.5480 & 0.2062\\\\\n",
       "\\end{tabular}\n"
      ],
      "text/markdown": [
       "\n",
       "| <!--/--> | mnaive | mroche | mbogle | mport2 |\n",
       "|---|---|---|---|---|\n",
       "| Annualized Return | 0.0140 | 0.0092 | 0.0387 | 0.0073 |\n",
       "| Annualized Std Dev | 0.0707 | 0.0685 | 0.0706 | 0.0354 |\n",
       "| Annualized Sharpe (Rf=0%) | 0.1981 | 0.1343 | 0.5480 | 0.2062 |\n",
       "\n"
      ],
      "text/plain": [
       "                          mnaive mroche mbogle mport2\n",
       "Annualized Return         0.0140 0.0092 0.0387 0.0073\n",
       "Annualized Std Dev        0.0707 0.0685 0.0706 0.0354\n",
       "Annualized Sharpe (Rf=0%) 0.1981 0.1343 0.5480 0.2062"
      ]
     },
     "metadata": {},
     "output_type": "display_data"
    },
    {
     "data": {
      "image/png": "[encoded data removed]",
      "text/plain": [
       "Plot with title \"Weights\""
      ]
     },
     "metadata": {},
     "output_type": "display_data"
    },
    {
     "data": {
      "image/png": "[encoded data removed]",
      "text/plain": [
       "Plot with title \"mnaive Performance\""
      ]
     },
     "metadata": {},
     "output_type": "display_data"
    }
   ],
   "source": [
    "# Portfolio Specifications\n",
    "mport2c <- portfolio.spec(assets=colnames(mport))\n",
    "\n",
    "# Portfolio Constraints\n",
    "mport2c <- add.constraint(mport2c,type=\"weight_sum\",min_sum=0.99,max_sum=1.01)\n",
    "mport2c <- add.constraint(mport2c,type=\"long_only\")\n",
    "\n",
    "# Portfolio Objectives\n",
    "mport2c <- add.objective(mport2c,type=\"risk\",name=\"StdDev\")\n",
    "\n",
    "# Portfolio Optimization\n",
    "mportopt2 <- optimize.portfolio(R=mport[\"::2014-12-31\"],portfolio=mport2c,optimize_method=\"DEoptim\",search_size=20000,trace=T)\n",
    "chart.Weights(mportopt2)\n",
    "\n",
    "# Portfolio Backtesting (Monthly Rebalancing)\n",
    "mport2 <- Return.portfolio(R=mport[\"2015-01-31::\"],weights=extractWeights(mportopt2),geometric=F,rebalance_on=\"months\")\n",
    "colnames(mport2) <- \"mport2\"\n",
    "mportcomp2 <- cbind(mnaive[\"2015-01-31::\"],mroche[\"2015-01-31::\"],mbogle[\"2015-01-31::\"],mport2)\n",
    "table.AnnualizedReturns(mportcomp2)\n",
    "charts.PerformanceSummary(mportcomp2)"
   ]
  },
  {
   "cell_type": "markdown",
   "metadata": {},
   "source": [
    "#### 3) Mean Maximization and Standard Deviation Minimization Portfolio"
   ]
  },
  {
   "cell_type": "code",
   "execution_count": 22,
   "metadata": {},
   "outputs": [
    {
     "name": "stdout",
     "output_type": "stream",
     "text": [
      "Iteration: 1 bestvalit: 0.005551 bestmemit:    0.914000    0.054000    0.024000    0.000000\n",
      "Iteration: 2 bestvalit: 0.005551 bestmemit:    0.914000    0.054000    0.024000    0.000000\n",
      "Iteration: 3 bestvalit: 0.005551 bestmemit:    0.914000    0.054000    0.024000    0.000000\n",
      "Iteration: 4 bestvalit: 0.005551 bestmemit:    0.914000    0.054000    0.024000    0.000000\n",
      "Iteration: 5 bestvalit: 0.005551 bestmemit:    0.914000    0.054000    0.024000    0.000000\n",
      "Iteration: 6 bestvalit: 0.005551 bestmemit:    0.914000    0.054000    0.024000    0.000000\n",
      "Iteration: 7 bestvalit: 0.005551 bestmemit:    0.914000    0.054000    0.024000    0.000000\n",
      "[1] 0.914 0.054 0.024 0.000\n"
     ]
    },
    {
     "data": {
      "image/png": "[encoded data removed]",
      "text/plain": [
       "Plot with title \"Weights\""
      ]
     },
     "metadata": {},
     "output_type": "display_data"
    },
    {
     "data": {
      "text/html": [
       "<table>\n",
       "<thead><tr><th></th><th scope=col>mnaive</th><th scope=col>mroche</th><th scope=col>mbogle</th><th scope=col>mport3</th></tr></thead>\n",
       "<tbody>\n",
       "\t<tr><th scope=row>Annualized Return</th><td>0.0140</td><td>0.0092</td><td>0.0387</td><td>0.0096</td></tr>\n",
       "\t<tr><th scope=row>Annualized Std Dev</th><td>0.0707</td><td>0.0685</td><td>0.0706</td><td>0.0334</td></tr>\n",
       "\t<tr><th scope=row>Annualized Sharpe (Rf=0%)</th><td>0.1981</td><td>0.1343</td><td>0.5480</td><td>0.2884</td></tr>\n",
       "</tbody>\n",
       "</table>\n"
      ],
      "text/latex": [
       "\\begin{tabular}{r|llll}\n",
       "  & mnaive & mroche & mbogle & mport3\\\\\n",
       "\\hline\n",
       "\tAnnualized Return & 0.0140 & 0.0092 & 0.0387 & 0.0096\\\\\n",
       "\tAnnualized Std Dev & 0.0707 & 0.0685 & 0.0706 & 0.0334\\\\\n",
       "\tAnnualized Sharpe (Rf=0\\%) & 0.1981 & 0.1343 & 0.5480 & 0.2884\\\\\n",
       "\\end{tabular}\n"
      ],
      "text/markdown": [
       "\n",
       "| <!--/--> | mnaive | mroche | mbogle | mport3 |\n",
       "|---|---|---|---|---|\n",
       "| Annualized Return | 0.0140 | 0.0092 | 0.0387 | 0.0096 |\n",
       "| Annualized Std Dev | 0.0707 | 0.0685 | 0.0706 | 0.0334 |\n",
       "| Annualized Sharpe (Rf=0%) | 0.1981 | 0.1343 | 0.5480 | 0.2884 |\n",
       "\n"
      ],
      "text/plain": [
       "                          mnaive mroche mbogle mport3\n",
       "Annualized Return         0.0140 0.0092 0.0387 0.0096\n",
       "Annualized Std Dev        0.0707 0.0685 0.0706 0.0334\n",
       "Annualized Sharpe (Rf=0%) 0.1981 0.1343 0.5480 0.2884"
      ]
     },
     "metadata": {},
     "output_type": "display_data"
    },
    {
     "data": {
      "image/png": "[encoded data removed]",
      "text/plain": [
       "Plot with title \"Efficient Frontier\""
      ]
     },
     "metadata": {},
     "output_type": "display_data"
    },
    {
     "data": {
      "image/png": "[encoded data removed]",
      "text/plain": [
       "Plot with title \"mnaive Performance\""
      ]
     },
     "metadata": {},
     "output_type": "display_data"
    }
   ],
   "source": [
    "# Portfolio Specifications\n",
    "mport3c <- portfolio.spec(assets=colnames(mport))\n",
    "\n",
    "# Portfolio Constraints\n",
    "mport3c <- add.constraint(mport3c,type=\"weight_sum\",min_sum=0.99,max_sum=1.01)\n",
    "mport3c <- add.constraint(mport3c,type=\"long_only\")\n",
    "\n",
    "# Portfolio Objectives\n",
    "mport3c <- add.objective(mport3c,type=\"return\",name=\"mean\")\n",
    "mport3c <- add.objective(mport3c,type=\"risk\",name=\"StdDev\")\n",
    "\n",
    "# Portfolio Optimization\n",
    "mportopt3 <- optimize.portfolio(R=mport[\"::2014-12-31\"],portfolio=mport3c,optimize_method=\"DEoptim\",search_size=20000,trace=T)\n",
    "chart.Weights(mportopt3)\n",
    "chart.EfficientFrontier(mportopt3,match.col=\"StdDev\")\n",
    "\n",
    "# Portfolio Backtesting (Monthly Rebalancing)\n",
    "mport3 <- Return.portfolio(R=mport[\"2015-01-31::\"],weights=extractWeights(mportopt3),geometric=F,rebalance_on=\"months\")\n",
    "colnames(mport3) <- \"mport3\"\n",
    "mportcomp3 <- cbind(mnaive[\"2015-01-31::\"],mroche[\"2015-01-31::\"],mbogle[\"2015-01-31::\"],mport3)\n",
    "table.AnnualizedReturns(mportcomp3)\n",
    "charts.PerformanceSummary(mportcomp3)"
   ]
  },
  {
   "cell_type": "markdown",
   "metadata": {},
   "source": [
    "#### 4) Mean Maximization Value at Risk (VaR) Minimization Portfolio"
   ]
  },
  {
   "cell_type": "code",
   "execution_count": 23,
   "metadata": {},
   "outputs": [
    {
     "name": "stdout",
     "output_type": "stream",
     "text": [
      "Iteration: 1 bestvalit: 0.019094 bestmemit:    0.964000    0.000000    0.030000    0.014000\n",
      "Iteration: 2 bestvalit: 0.018049 bestmemit:    0.978000    0.002000    0.014000    0.008000\n",
      "Iteration: 3 bestvalit: 0.018049 bestmemit:    0.978000    0.002000    0.014000    0.008000\n",
      "Iteration: 4 bestvalit: 0.018049 bestmemit:    0.978000    0.002000    0.014000    0.008000\n",
      "Iteration: 5 bestvalit: 0.018049 bestmemit:    0.978000    0.002000    0.014000    0.008000\n",
      "Iteration: 6 bestvalit: 0.018049 bestmemit:    0.978000    0.002000    0.014000    0.008000\n",
      "Iteration: 7 bestvalit: 0.016850 bestmemit:    0.982000    0.004000    0.004000    0.000000\n",
      "Iteration: 8 bestvalit: 0.016850 bestmemit:    0.982000    0.004000    0.004000    0.000000\n",
      "Iteration: 9 bestvalit: 0.016850 bestmemit:    0.982000    0.004000    0.004000    0.000000\n",
      "Iteration: 10 bestvalit: 0.016850 bestmemit:    0.982000    0.004000    0.004000    0.000000\n",
      "Iteration: 11 bestvalit: 0.016850 bestmemit:    0.982000    0.004000    0.004000    0.000000\n",
      "Iteration: 12 bestvalit: 0.016850 bestmemit:    0.982000    0.004000    0.004000    0.000000\n",
      "Iteration: 13 bestvalit: 0.016850 bestmemit:    0.982000    0.004000    0.004000    0.000000\n",
      "Iteration: 14 bestvalit: 0.016850 bestmemit:    0.982000    0.004000    0.004000    0.000000\n",
      "[1] 0.982 0.004 0.004 0.000\n"
     ]
    },
    {
     "data": {
      "text/html": [
       "<table>\n",
       "<thead><tr><th></th><th scope=col>mnaive</th><th scope=col>mroche</th><th scope=col>mbogle</th><th scope=col>mport4</th></tr></thead>\n",
       "<tbody>\n",
       "\t<tr><th scope=row>Annualized Return</th><td>0.0140</td><td>0.0092</td><td>0.0387</td><td>0.0071</td></tr>\n",
       "\t<tr><th scope=row>Annualized Std Dev</th><td>0.0707</td><td>0.0685</td><td>0.0706</td><td>0.0358</td></tr>\n",
       "\t<tr><th scope=row>Annualized Sharpe (Rf=0%)</th><td>0.1981</td><td>0.1343</td><td>0.5480</td><td>0.1976</td></tr>\n",
       "</tbody>\n",
       "</table>\n"
      ],
      "text/latex": [
       "\\begin{tabular}{r|llll}\n",
       "  & mnaive & mroche & mbogle & mport4\\\\\n",
       "\\hline\n",
       "\tAnnualized Return & 0.0140 & 0.0092 & 0.0387 & 0.0071\\\\\n",
       "\tAnnualized Std Dev & 0.0707 & 0.0685 & 0.0706 & 0.0358\\\\\n",
       "\tAnnualized Sharpe (Rf=0\\%) & 0.1981 & 0.1343 & 0.5480 & 0.1976\\\\\n",
       "\\end{tabular}\n"
      ],
      "text/markdown": [
       "\n",
       "| <!--/--> | mnaive | mroche | mbogle | mport4 |\n",
       "|---|---|---|---|---|\n",
       "| Annualized Return | 0.0140 | 0.0092 | 0.0387 | 0.0071 |\n",
       "| Annualized Std Dev | 0.0707 | 0.0685 | 0.0706 | 0.0358 |\n",
       "| Annualized Sharpe (Rf=0%) | 0.1981 | 0.1343 | 0.5480 | 0.1976 |\n",
       "\n"
      ],
      "text/plain": [
       "                          mnaive mroche mbogle mport4\n",
       "Annualized Return         0.0140 0.0092 0.0387 0.0071\n",
       "Annualized Std Dev        0.0707 0.0685 0.0706 0.0358\n",
       "Annualized Sharpe (Rf=0%) 0.1981 0.1343 0.5480 0.1976"
      ]
     },
     "metadata": {},
     "output_type": "display_data"
    },
    {
     "data": {
      "image/png": "[encoded data removed]",
      "text/plain": [
       "Plot with title \"Weights\""
      ]
     },
     "metadata": {},
     "output_type": "display_data"
    },
    {
     "data": {
      "image/png": "[encoded data removed]",
      "text/plain": [
       "Plot with title \"mnaive Performance\""
      ]
     },
     "metadata": {},
     "output_type": "display_data"
    }
   ],
   "source": [
    "# Portfolio Specifications\n",
    "mport4c <- portfolio.spec(assets=colnames(mport))\n",
    "\n",
    "# Portfolio Constraints\n",
    "mport4c <- add.constraint(mport4c,type=\"weight_sum\",min_sum=0.99,max_sum=1.01)\n",
    "mport4c <- add.constraint(mport4c,type=\"long_only\")\n",
    "\n",
    "# Portfolio Objectives\n",
    "mport4c <- add.objective(mport4c,type=\"return\",name=\"mean\")\n",
    "mport4c <- add.objective(mport4c,type=\"risk\",name=\"VaR\",arguments=list(p = 0.99,method=\"modified\"))\n",
    "\n",
    "# Portfolio Optimization\n",
    "mportopt4 <- optimize.portfolio(R=mport[\"::2014-12-31\"],portfolio=mport4c,optimize_method=\"DEoptim\",search_size=20000,trace=T)\n",
    "chart.Weights(mportopt4)\n",
    "\n",
    "# Portfolio Backtesting (Monthly Rebalancing)\n",
    "mport4 <- Return.portfolio(R=mport[\"2015-01-31::\"],weights=extractWeights(mportopt4),geometric=F,rebalance_on=\"months\")\n",
    "colnames(mport4) <- \"mport4\"\n",
    "mportcomp4 <- cbind(mnaive[\"2015-01-31::\"],mroche[\"2015-01-31::\"],mbogle[\"2015-01-31::\"],mport4)\n",
    "table.AnnualizedReturns(mportcomp4)\n",
    "charts.PerformanceSummary(mportcomp4)"
   ]
  },
  {
   "cell_type": "markdown",
   "metadata": {},
   "source": [
    "#### Compare all portfolio construction"
   ]
  },
  {
   "cell_type": "code",
   "execution_count": 24,
   "metadata": {},
   "outputs": [
    {
     "data": {
      "text/html": [
       "<table>\n",
       "<thead><tr><th></th><th scope=col>mnaive</th><th scope=col>mport1</th><th scope=col>mport2</th><th scope=col>mport3</th><th scope=col>mport4</th></tr></thead>\n",
       "<tbody>\n",
       "\t<tr><th scope=row>Annualized Return</th><td>0.0140</td><td>0.0558</td><td>0.0073</td><td>0.0096</td><td>0.0071</td></tr>\n",
       "\t<tr><th scope=row>Annualized Std Dev</th><td>0.0707</td><td>0.1190</td><td>0.0354</td><td>0.0334</td><td>0.0358</td></tr>\n",
       "\t<tr><th scope=row>Annualized Sharpe (Rf=0%)</th><td>0.1981</td><td>0.4688</td><td>0.2062</td><td>0.2884</td><td>0.1976</td></tr>\n",
       "</tbody>\n",
       "</table>\n"
      ],
      "text/latex": [
       "\\begin{tabular}{r|lllll}\n",
       "  & mnaive & mport1 & mport2 & mport3 & mport4\\\\\n",
       "\\hline\n",
       "\tAnnualized Return & 0.0140 & 0.0558 & 0.0073 & 0.0096 & 0.0071\\\\\n",
       "\tAnnualized Std Dev & 0.0707 & 0.1190 & 0.0354 & 0.0334 & 0.0358\\\\\n",
       "\tAnnualized Sharpe (Rf=0\\%) & 0.1981 & 0.4688 & 0.2062 & 0.2884 & 0.1976\\\\\n",
       "\\end{tabular}\n"
      ],
      "text/markdown": [
       "\n",
       "| <!--/--> | mnaive | mport1 | mport2 | mport3 | mport4 |\n",
       "|---|---|---|---|---|---|\n",
       "| Annualized Return | 0.0140 | 0.0558 | 0.0073 | 0.0096 | 0.0071 |\n",
       "| Annualized Std Dev | 0.0707 | 0.1190 | 0.0354 | 0.0334 | 0.0358 |\n",
       "| Annualized Sharpe (Rf=0%) | 0.1981 | 0.4688 | 0.2062 | 0.2884 | 0.1976 |\n",
       "\n"
      ],
      "text/plain": [
       "                          mnaive mport1 mport2 mport3 mport4\n",
       "Annualized Return         0.0140 0.0558 0.0073 0.0096 0.0071\n",
       "Annualized Std Dev        0.0707 0.1190 0.0354 0.0334 0.0358\n",
       "Annualized Sharpe (Rf=0%) 0.1981 0.4688 0.2062 0.2884 0.1976"
      ]
     },
     "metadata": {},
     "output_type": "display_data"
    },
    {
     "data": {
      "image/png": "[encoded data removed]",
      "text/plain": [
       "Plot with title \"mnaive Performance\""
      ]
     },
     "metadata": {},
     "output_type": "display_data"
    }
   ],
   "source": [
    "# Optimized Portfolios Backtesting Comparison\n",
    "mportcomp = cbind(mnaive[\"2015-01-31::\"],mport1,mport2,mport3,mport4)\n",
    "table.AnnualizedReturns(mportcomp)\n",
    "charts.PerformanceSummary(mportcomp)"
   ]
  },
  {
   "cell_type": "markdown",
   "metadata": {},
   "source": [
    "## Portfolio Performance"
   ]
  },
  {
   "cell_type": "code",
   "execution_count": 26,
   "metadata": {},
   "outputs": [],
   "source": [
    "# Risk Metrics\n",
    "cpi <- data[,24]\n",
    "mcpi <- monthlyReturn(cpi)\n",
    "colnames(mcpi) <- \"mcpi\"\n",
    "mmom <- data[,19]/100\n",
    "msprem <- data[,20]/100\n",
    "msize <- data[,21]/100\n",
    "mstyle <- data[,22]/100\n",
    "mrisk <- data[,23]/100\n",
    "mlsprem <- mlstocks-mrisk"
   ]
  },
  {
   "cell_type": "code",
   "execution_count": 27,
   "metadata": {},
   "outputs": [],
   "source": [
    "# Portfolio Performance Data\n",
    "misprem <- data[,29]/100\n",
    "mterm <- mlbonds-mrisk\n",
    "mfactp <- cbind(msprem,misprem,mterm) \n",
    "colnames(mfactp) <- c(\"msprem\",\"misprem\",\"mterm\")\n",
    "mfactp <- mfactp[\"2015-01-31::\"]"
   ]
  },
  {
   "cell_type": "markdown",
   "metadata": {},
   "source": [
    "#### Mean Maximization Portfolio Performance"
   ]
  },
  {
   "cell_type": "code",
   "execution_count": 28,
   "metadata": {},
   "outputs": [
    {
     "data": {
      "text/html": [
       "<dl class=dl-horizontal>\n",
       "\t<dt>mbonds</dt>\n",
       "\t\t<dd>0.01</dd>\n",
       "\t<dt>mstocks</dt>\n",
       "\t\t<dd>0.982</dd>\n",
       "\t<dt>mibonds</dt>\n",
       "\t\t<dd>0.01</dd>\n",
       "\t<dt>mistocks</dt>\n",
       "\t\t<dd>0</dd>\n",
       "</dl>\n"
      ],
      "text/latex": [
       "\\begin{description*}\n",
       "\\item[mbonds] 0.01\n",
       "\\item[mstocks] 0.982\n",
       "\\item[mibonds] 0.01\n",
       "\\item[mistocks] 0\n",
       "\\end{description*}\n"
      ],
      "text/markdown": [
       "mbonds\n",
       ":   0.01mstocks\n",
       ":   0.982mibonds\n",
       ":   0.01mistocks\n",
       ":   0\n",
       "\n"
      ],
      "text/plain": [
       "  mbonds  mstocks  mibonds mistocks \n",
       "   0.010    0.982    0.010    0.000 "
      ]
     },
     "metadata": {},
     "output_type": "display_data"
    },
    {
     "data": {
      "text/plain": [
       "\n",
       "Call:\n",
       "lm(formula = mpprem1 ~ mfactp)\n",
       "\n",
       "Residuals:\n",
       "       Min         1Q     Median         3Q        Max \n",
       "-0.0040538 -0.0007214 -0.0001143  0.0009814  0.0022793 \n",
       "\n",
       "Coefficients:\n",
       "                Estimate Std. Error t value Pr(>|t|)    \n",
       "(Intercept)   -0.0007425  0.0003339  -2.224   0.0379 *  \n",
       "mfactpmsprem   0.9961569  0.0172353  57.797  < 2e-16 ***\n",
       "mfactpmisprem -0.0131839  0.0152755  -0.863   0.3983    \n",
       "mfactpmterm    0.0527003  0.0093271   5.650 1.57e-05 ***\n",
       "---\n",
       "Signif. codes:  0 '***' 0.001 '**' 0.01 '*' 0.05 '.' 0.1 ' ' 1\n",
       "\n",
       "Residual standard error: 0.001589 on 20 degrees of freedom\n",
       "Multiple R-squared:  0.9981,\tAdjusted R-squared:  0.9979 \n",
       "F-statistic:  3571 on 3 and 20 DF,  p-value: < 2.2e-16\n"
      ]
     },
     "metadata": {},
     "output_type": "display_data"
    },
    {
     "data": {
      "text/plain": [
       "\n",
       "Call:\n",
       "lm(formula = mpprem1 ~ mfactp1)\n",
       "\n",
       "Residuals:\n",
       "       Min         1Q     Median         3Q        Max \n",
       "-0.0042963 -0.0004595  0.0001816  0.0008921  0.0021262 \n",
       "\n",
       "Coefficients:\n",
       "                Estimate Std. Error t value Pr(>|t|)    \n",
       "(Intercept)   -0.0006945  0.0003272  -2.122   0.0459 *  \n",
       "mfactp1msprem  0.9840715  0.0099876  98.529  < 2e-16 ***\n",
       "mfactp1mterm   0.0516253  0.0091873   5.619 1.41e-05 ***\n",
       "---\n",
       "Signif. codes:  0 '***' 0.001 '**' 0.01 '*' 0.05 '.' 0.1 ' ' 1\n",
       "\n",
       "Residual standard error: 0.00158 on 21 degrees of freedom\n",
       "Multiple R-squared:  0.9981,\tAdjusted R-squared:  0.9979 \n",
       "F-statistic:  5423 on 2 and 21 DF,  p-value: < 2.2e-16\n"
      ]
     },
     "metadata": {},
     "output_type": "display_data"
    }
   ],
   "source": [
    "# Mean Maximization Portfolio Factors Regressions\n",
    "extractWeights(mportopt1)\n",
    "mpprem1 <- mport1-mrisk[\"2015-01-31::\"]\n",
    "mregp1 <- lm(mpprem1~mfactp)\n",
    "summary(mregp1)\n",
    "\n",
    "mfactp1 <- cbind(mfactp[,1],mfactp[,3])\n",
    "colnames(mfactp1) <- c(\"msprem\",\"mterm\")\n",
    "mregp1f <- lm(mpprem1~mfactp1)\n",
    "summary(mregp1f)"
   ]
  },
  {
   "cell_type": "markdown",
   "metadata": {},
   "source": [
    "#### Mean Maximization Portfolio Expected Returns"
   ]
  },
  {
   "cell_type": "code",
   "execution_count": 29,
   "metadata": {},
   "outputs": [
    {
     "data": {
      "image/png": "[encoded data removed]",
      "text/plain": [
       "Plot with title \"Mean Maximization Portfolio Expected Returns\""
      ]
     },
     "metadata": {},
     "output_type": "display_data"
    }
   ],
   "source": [
    "map1 <- summary(mregp1f)$coefficients[1]\n",
    "mspreme1 <- summary(mregp1f)$coefficients[2]*mean(mfactp1[,1])\n",
    "mterme1 <- summary(mregp1f)$coefficients[3]*mean(mfactp1[,2])\n",
    "mppreme1 <- map1+mspreme1+mterme1\n",
    "\n",
    "mportcompe1 <- cbind(mppreme1,map1,mspreme1,mterme1)\n",
    "colnames(mportcompe1) <- c(\"mppreme1\",\"map1\",\"mspreme1\",\"mterme1\")\n",
    "\n",
    "mportcompb1 <- mportcompe1*100\n",
    "bp1 <- barplot(mportcompb1,main=\"Mean Maximization Portfolio Expected Returns\",col=\"lightgray\",ylim=c(-0.1,0.7))\n",
    "text(bp1,mportcompb1,labels=round(mportcompb1,2),pos=3)"
   ]
  },
  {
   "cell_type": "markdown",
   "metadata": {},
   "source": [
    "#### Standard Deviation Minimization Portfolio Performance"
   ]
  },
  {
   "cell_type": "code",
   "execution_count": 30,
   "metadata": {},
   "outputs": [
    {
     "data": {
      "text/html": [
       "<dl class=dl-horizontal>\n",
       "\t<dt>mbonds</dt>\n",
       "\t\t<dd>0.976</dd>\n",
       "\t<dt>mstocks</dt>\n",
       "\t\t<dd>0.008</dd>\n",
       "\t<dt>mibonds</dt>\n",
       "\t\t<dd>0.002</dd>\n",
       "\t<dt>mistocks</dt>\n",
       "\t\t<dd>0.01</dd>\n",
       "</dl>\n"
      ],
      "text/latex": [
       "\\begin{description*}\n",
       "\\item[mbonds] 0.976\n",
       "\\item[mstocks] 0.008\n",
       "\\item[mibonds] 0.002\n",
       "\\item[mistocks] 0.01\n",
       "\\end{description*}\n"
      ],
      "text/markdown": [
       "mbonds\n",
       ":   0.976mstocks\n",
       ":   0.008mibonds\n",
       ":   0.002mistocks\n",
       ":   0.01\n",
       "\n"
      ],
      "text/plain": [
       "  mbonds  mstocks  mibonds mistocks \n",
       "   0.976    0.008    0.002    0.010 "
      ]
     },
     "metadata": {},
     "output_type": "display_data"
    },
    {
     "data": {
      "text/plain": [
       "\n",
       "Call:\n",
       "lm(formula = mpprem2 ~ mfactp)\n",
       "\n",
       "Residuals:\n",
       "       Min         1Q     Median         3Q        Max \n",
       "-0.0041758 -0.0013244 -0.0002903  0.0013825  0.0060063 \n",
       "\n",
       "Coefficients:\n",
       "                Estimate Std. Error t value Pr(>|t|)    \n",
       "(Intercept)    0.0009421  0.0006130   1.537  0.14003    \n",
       "mfactpmsprem  -0.0524910  0.0316445  -1.659  0.11276    \n",
       "mfactpmisprem  0.1014480  0.0280463   3.617  0.00172 ** \n",
       "mfactpmterm    0.2517320  0.0171249  14.700 3.49e-12 ***\n",
       "---\n",
       "Signif. codes:  0 '***' 0.001 '**' 0.01 '*' 0.05 '.' 0.1 ' ' 1\n",
       "\n",
       "Residual standard error: 0.002918 on 20 degrees of freedom\n",
       "Multiple R-squared:  0.9292,\tAdjusted R-squared:  0.9185 \n",
       "F-statistic: 87.45 on 3 and 20 DF,  p-value: 1.138e-11\n"
      ]
     },
     "metadata": {},
     "output_type": "display_data"
    },
    {
     "data": {
      "text/plain": [
       "\n",
       "Call:\n",
       "lm(formula = mpprem2 ~ mfactp2)\n",
       "\n",
       "Residuals:\n",
       "       Min         1Q     Median         3Q        Max \n",
       "-0.0059145 -0.0017148  0.0005031  0.0013957  0.0052350 \n",
       "\n",
       "Coefficients:\n",
       "                Estimate Std. Error t value Pr(>|t|)    \n",
       "(Intercept)    0.0007062  0.0006207   1.138  0.26803    \n",
       "mfactp2misprem 0.0636512  0.0170203   3.740  0.00121 ** \n",
       "mfactp2mterm   0.2609586  0.0168583  15.480 5.86e-13 ***\n",
       "---\n",
       "Signif. codes:  0 '***' 0.001 '**' 0.01 '*' 0.05 '.' 0.1 ' ' 1\n",
       "\n",
       "Residual standard error: 0.003038 on 21 degrees of freedom\n",
       "Multiple R-squared:  0.9194,\tAdjusted R-squared:  0.9118 \n",
       "F-statistic: 119.8 on 2 and 21 DF,  p-value: 3.275e-12\n"
      ]
     },
     "metadata": {},
     "output_type": "display_data"
    },
    {
     "data": {
      "image/png": "[encoded data removed]",
      "text/plain": [
       "Plot with title \"Standard Deviation Minimization Portfolio Expected Returns\""
      ]
     },
     "metadata": {},
     "output_type": "display_data"
    }
   ],
   "source": [
    "# Standard Deviation Minimization Portfolio Factors Regression\n",
    "extractWeights(mportopt2)\n",
    "mpprem2 <- mport2-mrisk[\"2015-01-31::\"]\n",
    "mregp2 <- lm(mpprem2~mfactp)\n",
    "summary(mregp2)\n",
    "\n",
    "mfactp2 <- cbind(mfactp[,2],mfactp[,3])\n",
    "colnames(mfactp2) <- c(\"misprem\",\"mterm\")\n",
    "mregp2f <- lm(mpprem2~mfactp2)\n",
    "summary(mregp2f)\n",
    "\n",
    "# Standard Deviation Minimization Portfolio Expected Returns\n",
    "map2 <- summary(mregp2f)$coefficients[1]\n",
    "mispreme2 <- summary(mregp2f)$coefficients[2]*mean(mfactp2[,1])\n",
    "mterme2 <- summary(mregp2f)$coefficients[3]*mean(mfactp2[,2])\n",
    "mppreme2 <- map2+mispreme2+mterme2\n",
    "\n",
    "mportcompe2 <- cbind(mppreme2,map2,mispreme2,mterme2)\n",
    "colnames(mportcompe2) <- c(\"mppreme2\",\"map2\",\"mispreme2\",\"mterme2\")\n",
    "\n",
    "mportcompb2 <- mportcompe2*100\n",
    "bp2 <- barplot(mportcompb2,main=\"Standard Deviation Minimization Portfolio Expected Returns\",col=\"lightgray\",ylim=c(-0.05,0.15))\n",
    "text(bp2,mportcompb2,labels=round(mportcompb2,2),pos=3)"
   ]
  },
  {
   "cell_type": "markdown",
   "metadata": {},
   "source": [
    "#### Mean Maximization and Standard Deviation Minimization Portfolio Performance"
   ]
  },
  {
   "cell_type": "code",
   "execution_count": 31,
   "metadata": {},
   "outputs": [
    {
     "data": {
      "text/html": [
       "<dl class=dl-horizontal>\n",
       "\t<dt>mbonds</dt>\n",
       "\t\t<dd>0.914</dd>\n",
       "\t<dt>mstocks</dt>\n",
       "\t\t<dd>0.054</dd>\n",
       "\t<dt>mibonds</dt>\n",
       "\t\t<dd>0.024</dd>\n",
       "\t<dt>mistocks</dt>\n",
       "\t\t<dd>0</dd>\n",
       "</dl>\n"
      ],
      "text/latex": [
       "\\begin{description*}\n",
       "\\item[mbonds] 0.914\n",
       "\\item[mstocks] 0.054\n",
       "\\item[mibonds] 0.024\n",
       "\\item[mistocks] 0\n",
       "\\end{description*}\n"
      ],
      "text/markdown": [
       "mbonds\n",
       ":   0.914mstocks\n",
       ":   0.054mibonds\n",
       ":   0.024mistocks\n",
       ":   0\n",
       "\n"
      ],
      "text/plain": [
       "  mbonds  mstocks  mibonds mistocks \n",
       "   0.914    0.054    0.024    0.000 "
      ]
     },
     "metadata": {},
     "output_type": "display_data"
    },
    {
     "data": {
      "text/plain": [
       "\n",
       "Call:\n",
       "lm(formula = mpprem3 ~ mfactp)\n",
       "\n",
       "Residuals:\n",
       "       Min         1Q     Median         3Q        Max \n",
       "-0.0038694 -0.0013452 -0.0000882  0.0013735  0.0063395 \n",
       "\n",
       "Coefficients:\n",
       "                Estimate Std. Error t value Pr(>|t|)    \n",
       "(Intercept)    0.0008652  0.0006078   1.423   0.1700    \n",
       "mfactpmsprem  -0.0070730  0.0313742  -0.225   0.8239    \n",
       "mfactpmisprem  0.0960748  0.0278067   3.455   0.0025 ** \n",
       "mfactpmterm    0.2429503  0.0169786  14.309 5.72e-12 ***\n",
       "---\n",
       "Signif. codes:  0 '***' 0.001 '**' 0.01 '*' 0.05 '.' 0.1 ' ' 1\n",
       "\n",
       "Residual standard error: 0.002893 on 20 degrees of freedom\n",
       "Multiple R-squared:  0.9218,\tAdjusted R-squared:   0.91 \n",
       "F-statistic: 78.54 on 3 and 20 DF,  p-value: 3.067e-11\n"
      ]
     },
     "metadata": {},
     "output_type": "display_data"
    },
    {
     "data": {
      "text/plain": [
       "\n",
       "Call:\n",
       "lm(formula = mpprem3 ~ mfactp3)\n",
       "\n",
       "Residuals:\n",
       "      Min        1Q    Median        3Q       Max \n",
       "-0.003959 -0.001436 -0.000043  0.001372  0.006235 \n",
       "\n",
       "Coefficients:\n",
       "                Estimate Std. Error t value Pr(>|t|)    \n",
       "(Intercept)    0.0008334  0.0005777   1.443    0.164    \n",
       "mfactp3misprem 0.0909818  0.0158417   5.743 1.06e-05 ***\n",
       "mfactp3mterm   0.2441936  0.0156909  15.563 5.28e-13 ***\n",
       "---\n",
       "Signif. codes:  0 '***' 0.001 '**' 0.01 '*' 0.05 '.' 0.1 ' ' 1\n",
       "\n",
       "Residual standard error: 0.002827 on 21 degrees of freedom\n",
       "Multiple R-squared:  0.9216,\tAdjusted R-squared:  0.9141 \n",
       "F-statistic: 123.4 on 2 and 21 DF,  p-value: 2.47e-12\n"
      ]
     },
     "metadata": {},
     "output_type": "display_data"
    },
    {
     "data": {
      "image/png": "[encoded data removed]",
      "text/plain": [
       "Plot with title \"Mean Maximization and Standard Deviation Minimization Portfolio Expected Returns\""
      ]
     },
     "metadata": {},
     "output_type": "display_data"
    }
   ],
   "source": [
    "#  Mean Maximization and Standard Deviation Minimization Portfolio Factors Regression\n",
    "extractWeights(mportopt3)\n",
    "mpprem3 <- mport3-mrisk[\"2015-01-31::\"]\n",
    "mregp3 <- lm(mpprem3~mfactp)\n",
    "summary(mregp3)\n",
    "\n",
    "mfactp3 <- cbind(mfactp[,2],mfactp[,3])\n",
    "colnames(mfactp3) <- c(\"misprem\",\"mterm\")\n",
    "mregp3f <- lm(mpprem3~mfactp3)\n",
    "summary(mregp3f)\n",
    "\n",
    "# Mean Maximization and Standard Deviation Minimization Portfolio Expected Returns\n",
    "map3 <- summary(mregp3f)$coefficients[1]\n",
    "mispreme3 <- summary(mregp3f)$coefficients[2]*mean(mfactp3[,1])\n",
    "mterme3 <- summary(mregp3f)$coefficients[3]*mean(mfactp3[,2])\n",
    "mppreme3 <- map3+mispreme3+mterme3\n",
    "\n",
    "mportcompe3 <- cbind(mppreme3,map3,mispreme3,mterme3)\n",
    "colnames(mportcompe3) <- c(\"mppreme3\",\"map3\",\"mispreme3\",\"mterme3\")\n",
    "\n",
    "mportcompb3 <- mportcompe3*100\n",
    "bp3 <- barplot(mportcompb3,main=\"Mean Maximization and Standard Deviation Minimization Portfolio Expected Returns\",col=\"lightgray\",ylim=c(-0.05,0.15))\n",
    "text(bp3,mportcompb3,labels=round(mportcompb3,2),pos=3)"
   ]
  },
  {
   "cell_type": "markdown",
   "metadata": {},
   "source": [
    "#### Mean Maximization and VaR Minimization Portfolio Performance"
   ]
  },
  {
   "cell_type": "code",
   "execution_count": 32,
   "metadata": {},
   "outputs": [
    {
     "data": {
      "text/html": [
       "<dl class=dl-horizontal>\n",
       "\t<dt>mbonds</dt>\n",
       "\t\t<dd>0.982</dd>\n",
       "\t<dt>mstocks</dt>\n",
       "\t\t<dd>0.004</dd>\n",
       "\t<dt>mibonds</dt>\n",
       "\t\t<dd>0.004</dd>\n",
       "\t<dt>mistocks</dt>\n",
       "\t\t<dd>0</dd>\n",
       "</dl>\n"
      ],
      "text/latex": [
       "\\begin{description*}\n",
       "\\item[mbonds] 0.982\n",
       "\\item[mstocks] 0.004\n",
       "\\item[mibonds] 0.004\n",
       "\\item[mistocks] 0\n",
       "\\end{description*}\n"
      ],
      "text/markdown": [
       "mbonds\n",
       ":   0.982mstocks\n",
       ":   0.004mibonds\n",
       ":   0.004mistocks\n",
       ":   0\n",
       "\n"
      ],
      "text/plain": [
       "  mbonds  mstocks  mibonds mistocks \n",
       "   0.982    0.004    0.004    0.000 "
      ]
     },
     "metadata": {},
     "output_type": "display_data"
    },
    {
     "data": {
      "text/plain": [
       "\n",
       "Call:\n",
       "lm(formula = mpprem4 ~ mfactp)\n",
       "\n",
       "Residuals:\n",
       "       Min         1Q     Median         3Q        Max \n",
       "-0.0041460 -0.0013514 -0.0002471  0.0013788  0.0059678 \n",
       "\n",
       "Coefficients:\n",
       "                Estimate Std. Error t value Pr(>|t|)    \n",
       "(Intercept)    0.0009713  0.0006120   1.587  0.12821    \n",
       "mfactpmsprem  -0.0585567  0.0315922  -1.854  0.07862 .  \n",
       "mfactpmisprem  0.0943057  0.0279999   3.368  0.00306 ** \n",
       "mfactpmterm    0.2527993  0.0170966  14.787 3.13e-12 ***\n",
       "---\n",
       "Signif. codes:  0 '***' 0.001 '**' 0.01 '*' 0.05 '.' 0.1 ' ' 1\n",
       "\n",
       "Residual standard error: 0.002913 on 20 degrees of freedom\n",
       "Multiple R-squared:  0.9307,\tAdjusted R-squared:  0.9203 \n",
       "F-statistic: 89.54 on 3 and 20 DF,  p-value: 9.142e-12\n"
      ]
     },
     "metadata": {},
     "output_type": "display_data"
    },
    {
     "data": {
      "text/plain": [
       "\n",
       "Call:\n",
       "lm(formula = mpprem4 ~ mfactp4)\n",
       "\n",
       "Residuals:\n",
       "       Min         1Q     Median         3Q        Max \n",
       "-0.0062260 -0.0017588  0.0006012  0.0014194  0.0052812 \n",
       "\n",
       "Coefficients:\n",
       "                Estimate Std. Error t value Pr(>|t|)    \n",
       "(Intercept)    0.0007081  0.0006289   1.126  0.27289    \n",
       "mfactp4misprem 0.0521411  0.0172457   3.023  0.00647 ** \n",
       "mfactp4mterm   0.2630921  0.0170815  15.402 6.45e-13 ***\n",
       "---\n",
       "Signif. codes:  0 '***' 0.001 '**' 0.01 '*' 0.05 '.' 0.1 ' ' 1\n",
       "\n",
       "Residual standard error: 0.003078 on 21 degrees of freedom\n",
       "Multiple R-squared:  0.9188,\tAdjusted R-squared:  0.9111 \n",
       "F-statistic: 118.8 on 2 and 21 DF,  p-value: 3.55e-12\n"
      ]
     },
     "metadata": {},
     "output_type": "display_data"
    },
    {
     "data": {
      "image/png": "[encoded data removed]",
      "text/plain": [
       "Plot with title \"Mean Maximization and VaR Minimization Portfolio Expected Returns\""
      ]
     },
     "metadata": {},
     "output_type": "display_data"
    }
   ],
   "source": [
    "# Mean Maximization and VaR Minimization Portfolio Factors Regression\n",
    "extractWeights(mportopt4)\n",
    "mpprem4 <- mport4-mrisk[\"2015-01-31::\"]\n",
    "mregp4 <- lm(mpprem4~mfactp)\n",
    "summary(mregp4)\n",
    "\n",
    "mfactp4 <- cbind(mfactp[,2],mfactp[,3])\n",
    "colnames(mfactp4) <- c(\"misprem\",\"mterm\")\n",
    "mregp4f <- lm(mpprem4~mfactp4)\n",
    "summary(mregp4f)\n",
    "\n",
    "# Mean Maximization and VaR Minimization Portfolio Expected Returns\n",
    "map4 <- summary(mregp4f)$coefficients[1]\n",
    "mispreme4 <- summary(mregp4f)$coefficients[2]*mean(mfactp4[,1])\n",
    "mterme4 <- summary(mregp4f)$coefficients[3]*mean(mfactp4[,2])\n",
    "mppreme4 <- map4+mispreme4+mterme4\n",
    "\n",
    "mportcompe4 <- cbind(mppreme4,map4,mispreme4,mterme4)\n",
    "colnames(mportcompe4) <- c(\"mppreme4\",\"map4\",\"mispreme4\",\"mterme4\")\n",
    "\n",
    "mportcompb4 <- mportcompe4*100\n",
    "bp4 <- barplot(mportcompb4,main=\"Mean Maximization and VaR Minimization Portfolio Expected Returns\",col=\"lightgray\",ylim=c(-0.05,0.15))\n",
    "text(bp4,mportcompb4,labels=round(mportcompb4,2),pos=3)"
   ]
  },
  {
   "cell_type": "code",
   "execution_count": null,
   "metadata": {},
   "outputs": [],
   "source": []
  }
 ],
 "metadata": {
  "kernelspec": {
   "display_name": "R",
   "language": "R",
   "name": "ir"
  },
  "language_info": {
   "codemirror_mode": "r",
   "file_extension": ".r",
   "mimetype": "text/x-r-source",
   "name": "R",
   "pygments_lexer": "r",
   "version": "3.6.1"
  }
 },
 "nbformat": 4,
 "nbformat_minor": 4
}
